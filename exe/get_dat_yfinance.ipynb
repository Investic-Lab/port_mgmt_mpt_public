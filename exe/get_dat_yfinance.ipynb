{
 "cells": [
  {
   "cell_type": "code",
   "execution_count": 1,
   "metadata": {},
   "outputs": [],
   "source": [
    "import os\n",
    "import pickle\n",
    "import yfinance as yf\n",
    "import pandas as pd"
   ]
  },
  {
   "cell_type": "code",
   "execution_count": 3,
   "metadata": {},
   "outputs": [],
   "source": [
    "def get_ticker(file_name):\n",
    "    # Assuming you have a list of S&P 1500 symbols (tickers)\n",
    "    res = pd.read_csv(f'../dat/{file_name}tickers.csv')\n",
    "    return res['Symbol'].tolist()"
   ]
  },
  {
   "cell_type": "code",
   "execution_count": 4,
   "metadata": {},
   "outputs": [],
   "source": [
    "\"\"\" Get data from Dow Jones 30 \"\"\"\n",
    "# Define the output directory if it doesn't exist\n",
    "output_dir = '../dat_yfinance_dow30/'\n",
    "os.makedirs(output_dir, exist_ok=True)\n",
    "\n",
    "# For Dow Jones 30\n",
    "tickers = get_ticker(file_name='dow30')\n",
    "\n",
    "# For Dow Jones 30\n",
    "tickers = get_ticker(file_name='dow30')  # Update file_name appropriately\n",
    "\n",
    "for ticker in tickers:\n",
    "    ticker = ticker.replace(\".\", \"-\")  # In Yahoo Finance, '.' in tickers is replaced with '-'\n",
    "    data = yf.Ticker(ticker).history(start=\"2000-01-01\")\n",
    "    \n",
    "    if not data.empty:\n",
    "        with open(os.path.join(output_dir, f'{ticker}.pkl'), 'wb') as f:\n",
    "            pickle.dump(data, f)\n",
    "    else:\n",
    "        print(f\"Failed to retrieve data for {ticker}\")"
   ]
  },
  {
   "cell_type": "code",
   "execution_count": null,
   "metadata": {},
   "outputs": [],
   "source": [
    "\"\"\" Get data from Nasdaq 100 \"\"\"\n",
    "# Define the output directory if it doesn't exist\n",
    "output_dir = '../dat_yfinance_nasdaq100/'\n",
    "os.makedirs(output_dir, exist_ok=True)\n",
    "\n",
    "# For Nasdaq 100\n",
    "tickers = get_ticker(file_name='nasdaq100')  # Update file_name appropriately\n",
    "\n",
    "for ticker in tickers:\n",
    "    ticker = ticker.replace(\".\", \"-\")  # In Yahoo Finance, '.' in tickers is replaced with '-'\n",
    "    data = yf.Ticker(ticker).history(start=\"1990-01-01\")\n",
    "    \n",
    "    if not data.empty:\n",
    "        with open(os.path.join(output_dir, f'{ticker}.pkl'), 'wb') as f:\n",
    "            pickle.dump(data, f)\n",
    "    else:\n",
    "        print(f\"Failed to retrieve data for {ticker}\")"
   ]
  },
  {
   "cell_type": "code",
   "execution_count": null,
   "metadata": {},
   "outputs": [],
   "source": [
    "\"\"\" Get data from S&P500 - BigCap \"\"\"\n",
    "# Define the output directory if it doesn't exist\n",
    "output_dir = '../dat_yfinance_sp500/'\n",
    "os.makedirs(output_dir, exist_ok=True)\n",
    "\n",
    "# For Nasdaq 100\n",
    "tickers = get_ticker(file_name='sp500')  # Update file_name appropriately\n",
    "\n",
    "for ticker in tickers:\n",
    "    ticker = ticker.replace(\".\", \"-\")  # In Yahoo Finance, '.' in tickers is replaced with '-'\n",
    "    data = yf.Ticker(ticker).history(start=\"1990-01-01\")\n",
    "    \n",
    "    if not data.empty:\n",
    "        with open(os.path.join(output_dir, f'{ticker}.pkl'), 'wb') as f:\n",
    "            pickle.dump(data, f)\n",
    "    else:\n",
    "        print(f\"Failed to retrieve data for {ticker}\")"
   ]
  },
  {
   "cell_type": "code",
   "execution_count": null,
   "metadata": {},
   "outputs": [],
   "source": [
    "\"\"\" Get data from S&P400 - MidCap \"\"\"\n",
    "# Define the output directory if it doesn't exist\n",
    "output_dir = '../dat_yfinance_sp400/'\n",
    "os.makedirs(output_dir, exist_ok=True)\n",
    "\n",
    "# For Nasdaq 100\n",
    "tickers = get_ticker(file_name='sp400')  # Update file_name appropriately\n",
    "\n",
    "for ticker in tickers:\n",
    "    ticker = ticker.replace(\".\", \"-\")  # In Yahoo Finance, '.' in tickers is replaced with '-'\n",
    "    data = yf.Ticker(ticker).history(start=\"1990-01-01\")\n",
    "    \n",
    "    if not data.empty:\n",
    "        with open(os.path.join(output_dir, f'{ticker}.pkl'), 'wb') as f:\n",
    "            pickle.dump(data, f)\n",
    "    else:\n",
    "        print(f\"Failed to retrieve data for {ticker}\")"
   ]
  },
  {
   "cell_type": "code",
   "execution_count": null,
   "metadata": {},
   "outputs": [],
   "source": [
    "\"\"\" Get data from S&P600 - Small Cap \"\"\"\n",
    "# Define the output directory if it doesn't exist\n",
    "output_dir = '../dat_yfinance_sp600/'\n",
    "os.makedirs(output_dir, exist_ok=True)\n",
    "\n",
    "# For Nasdaq 100\n",
    "tickers = get_ticker(file_name='sp600')  # Update file_name appropriately\n",
    "\n",
    "for ticker in tickers:\n",
    "    ticker = ticker.replace(\".\", \"-\")  # In Yahoo Finance, '.' in tickers is replaced with '-'\n",
    "    data = yf.Ticker(ticker).history(start=\"1990-01-01\")\n",
    "    \n",
    "    if not data.empty:\n",
    "        with open(os.path.join(output_dir, f'{ticker}.pkl'), 'wb') as f:\n",
    "            pickle.dump(data, f)\n",
    "    else:\n",
    "        print(f\"Failed to retrieve data for {ticker}\")"
   ]
  }
 ],
 "metadata": {
  "kernelspec": {
   "display_name": "port_mgmt",
   "language": "python",
   "name": "python3"
  },
  "language_info": {
   "codemirror_mode": {
    "name": "ipython",
    "version": 3
   },
   "file_extension": ".py",
   "mimetype": "text/x-python",
   "name": "python",
   "nbconvert_exporter": "python",
   "pygments_lexer": "ipython3",
   "version": "3.10.6"
  }
 },
 "nbformat": 4,
 "nbformat_minor": 2
}
