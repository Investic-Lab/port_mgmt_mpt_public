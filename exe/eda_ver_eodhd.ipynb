{
 "cells": [
  {
   "cell_type": "code",
   "execution_count": 7,
   "metadata": {},
   "outputs": [],
   "source": [
    "import pandas as pd\n",
    "import pandas_datareader as pdr\n",
    "import seaborn as sns\n",
    "import numpy as np\n",
    "import yfinance as yf\n",
    "import datetime\n",
    "import requests\n",
    "import os, sys\n",
    "import tqdm\n",
    "import pickle\n",
    "import glob\n",
    "import matplotlib.pyplot as plt\n",
    "import plotly.graph_objects as go\n",
    "from scipy.optimize import minimize\n",
    "from nsepy import *"
   ]
  },
  {
   "cell_type": "markdown",
   "metadata": {},
   "source": [
    "# Collect Data"
   ]
  },
  {
   "cell_type": "code",
   "execution_count": null,
   "metadata": {},
   "outputs": [],
   "source": [
    "\"\"\" Collect all stock data from ../dat_eodhd_dow30/\"\"\"\n",
    "\n",
    "# Set the path\n",
    "path = '../dat_eodhd_dow30/'\n",
    "all_files = glob.glob(os.path.join(path, \"*.pkl\"))\n",
    "\n",
    "# Create an empty list to hold DataFrames\n",
    "dfs = []\n",
    "\n",
    "# Iterate through all files and append the adjusted_close column to the dfs list\n",
    "for filename in all_files:\n",
    "    # Read the .pkl file into a DataFrame\n",
    "    df = pd.read_pickle(filename)\n",
    "    \n",
    "    # Extract the adjusted_close column\n",
    "    adj_close = df[['adjusted_close']]\n",
    "    \n",
    "    # Rename the column with the filename\n",
    "    adj_close.columns = [os.path.basename(filename).replace('.pkl', '')]\n",
    "    \n",
    "    # Append the adjusted_close DataFrame to the dfs list\n",
    "    dfs.append(adj_close)\n",
    "\n",
    "# Concatenate all DataFrames along the columns axis\n",
    "final_df = pd.concat(dfs, axis=1)"
   ]
  },
  {
   "cell_type": "markdown",
   "metadata": {},
   "source": [
    "# EDA"
   ]
  },
  {
   "cell_type": "code",
   "execution_count": null,
   "metadata": {},
   "outputs": [],
   "source": [
    "\"\"\" step 1: plot daily price of all the stocks \"\"\"\n",
    "\n",
    "plt.figure()\n",
    "final_df.plot(subplots = True,figsize = (15,120))\n",
    "# plt.title(\"Close prices of all stocks\")\n",
    "plt.show()"
   ]
  },
  {
   "cell_type": "code",
   "execution_count": null,
   "metadata": {},
   "outputs": [],
   "source": [
    "\"\"\" step 2: finding dailt returns\"\"\"\n",
    "\n",
    "daily_returns = final_df/final_df.shift(1)\n",
    "daily_returns"
   ]
  },
  {
   "cell_type": "code",
   "execution_count": null,
   "metadata": {},
   "outputs": [],
   "source": [
    "\"\"\" step 3: In finance, we generally use logarithmic returns for analysis\"\"\"\n",
    "\n",
    "log_returns = np.log(final_df/final_df.shift(1))\n",
    "log_returns"
   ]
  },
  {
   "cell_type": "code",
   "execution_count": null,
   "metadata": {},
   "outputs": [],
   "source": [
    "log_returns.mean() # for daily return\n",
    "log_returns.mean() * 252 # stock market is open for 252 days in a year"
   ]
  },
  {
   "cell_type": "code",
   "execution_count": null,
   "metadata": {},
   "outputs": [],
   "source": [
    "# Max and Min Retrun\n",
    "max_return = log_returns.mean().max() * 252\n",
    "min_return = log_returns.mean().min() * 252\n",
    "\n",
    "# Find the best and worst ticker (maximum return)\n",
    "best_ticker = log_returns.mean().idxmax()\n",
    "worst_ticker = log_returns.mean().idxmin()\n",
    "\n",
    "print(f\"{best_ticker}: {max_return * 100:.4f}%\")\n",
    "print(f\"{worst_ticker}: {min_return * 100:.4f}%\")"
   ]
  },
  {
   "cell_type": "code",
   "execution_count": null,
   "metadata": {},
   "outputs": [],
   "source": [
    "log_returns.std() # standard deviation\n",
    "log_returns.cov() # covariance\n",
    "log_returns.corr() # correlations"
   ]
  },
  {
   "cell_type": "code",
   "execution_count": null,
   "metadata": {},
   "outputs": [],
   "source": [
    "# Create the heatmap with annotations\n",
    "plt.figure(figsize=(15,8))\n",
    "sns.heatmap(log_returns.corr(),linecolor='white',linewidths=1,annot=True)\n",
    "plt.title(\"correlation heatmap of stocks\")\n",
    "plt.show()"
   ]
  },
  {
   "cell_type": "code",
   "execution_count": null,
   "metadata": {},
   "outputs": [],
   "source": [
    "# Create the heatmap without annotations\n",
    "plt.figure(figsize=(15,8))\n",
    "sns.heatmap(log_returns.corr(), linecolor='white', linewidths=1, annot=False)\n",
    "plt.title(\"Correlation heatmap of stocks\")\n",
    "plt.show()"
   ]
  },
  {
   "cell_type": "markdown",
   "metadata": {},
   "source": [
    "### Using heatmap to find strongly positive or strongly negative correlated stocks"
   ]
  },
  {
   "cell_type": "code",
   "execution_count": null,
   "metadata": {},
   "outputs": [],
   "source": [
    "# Create the heatmap with annotations\n",
    "plt.figure(figsize=(15,8))\n",
    "c = log_returns.corr()\n",
    "sns.heatmap(((c > 0.68) | (c < -0.68)) & (c != 1),linecolor='white',linewidths=1,annot = True)\n",
    "plt.show()"
   ]
  },
  {
   "cell_type": "code",
   "execution_count": null,
   "metadata": {},
   "outputs": [],
   "source": [
    "# Create the heatmap without annotations\n",
    "plt.figure(figsize=(15,8))\n",
    "c = log_returns.corr()\n",
    "sns.heatmap(((c > 0.68) | (c < -0.68)) & (c != 1), linecolor='white', linewidths=1, annot=False)\n",
    "plt.show()"
   ]
  },
  {
   "cell_type": "markdown",
   "metadata": {},
   "source": [
    "- From the heatmaps, we can observe that there is no pair with negative correlation\n",
    "- We only have some pairs of stocks from banking sector with  high positive correlation"
   ]
  },
  {
   "cell_type": "code",
   "execution_count": null,
   "metadata": {},
   "outputs": [],
   "source": [
    "sns.pairplot(final_df,palette='coolwarm')\n",
    "plt.show()"
   ]
  },
  {
   "cell_type": "markdown",
   "metadata": {},
   "source": [
    "- The pair plots also signify the same result that there is no pair of stocks with high negative correlation. We don't find any pair-plot with upper-left to lower-right pattern.\n",
    "- The pairs with high positive correlation have scatter plot with lower-left to upper-right pattern .\n",
    "- Other pairs don't form any pattern."
   ]
  },
  {
   "cell_type": "markdown",
   "metadata": {},
   "source": [
    "# Markowitz Model\n",
    "- We model our assets by their expected return, $E[R]$ and their risk, which is expressed as their standard deviation, $\\sigma$\n",
    "- Our investment decisions are expressed by investing 100% of our wealth in assets( here, stocks), where each particular investment represents a proportion of our total wealth. \n",
    "- We will now implement Markowitz Model. This model assists in the selection of the most efficient portfolios by analyzing various possible portfolios of the selected stocks.\n",
    "- We invest $w_i$ in $stock_i$ for every i, such that"
   ]
  },
  {
   "cell_type": "markdown",
   "metadata": {},
   "source": [
    " $$\\Sigma^{n}_{i=1} w_i = 1$$\n",
    " - The expected return of the portfolio constructed would be\n",
    "\n",
    "$$E[R_p] = \\Sigma^{n}_{i=1} w_i E[R_i]$$\n",
    "- the risk associated with the portfolio would be\n",
    "\n",
    "$$\\sigma^2(R_p) = \\Sigma^{n}_{i=1} w_i^2 \\sigma^2(R_i) + \\Sigma^{}_{i=1}\\Sigma^{}_{j {\\neq} i} w_i w_j \\sigma(R_i) \\sigma(R_j) \\rho_{ij}$$\n",
    "\n",
    "- $E[R_i]$ is the annual expected return of $i$th stock, $\\sigma(R_i)$ corrsponds to annual standard deviation of $i$th stock and $\\rho_{ij}$ is the correlation between the logarithmic returns $i$th and the $j$th stock.\n",
    "- An efficient portfolio is one that maximizes return for a given level of risk. Our task is to select adequate weights $w_i$ to get the efficient portfolio"
   ]
  },
  {
   "cell_type": "markdown",
   "metadata": {},
   "source": [
    "## Implementation\n",
    "-  Let $W_{1 \\times n}$ be a array containing the weights $w_i$ such that $\\Sigma^{n}_{i=1} w_i = 1$ and $E[R]_{ n\\times 1}$ be another array containing annual expected returns of n stocks present in the portfolio and $C$ be the covariance matrix of annual returns of  stocks, then\n",
    "\n",
    "$$E[R_p] = WE[R]$$\n",
    "\n",
    "$$ \\sigma^2(R_p) = W^TCW $$"
   ]
  },
  {
   "cell_type": "markdown",
   "metadata": {},
   "source": [
    "### Sharpe Ratio\n",
    "\n",
    "- It is a statistical measure used in Modern Portfolio Theory.\n",
    "- The Sharpe ratio measures the performance of an investment compared to a risk-free asset, after adjusting for its risk. It is defined as the difference between the returns of the investment and the risk-free return, divided by the standard deviation of the investment.\n",
    "- A portfolio with a higher Sharpe ratio is considered to have best risk-adjusted returns.\n",
    "\n",
    "$$ S = \\frac{E[R_p] - R_f}{\\sigma(R_p)} $$\n",
    "\n",
    "Here, $R_f$ is the risk free rate of return. I have taken risk free rate as 10 year government bond rate of India on July 9th, i.e 6.19%"
   ]
  },
  {
   "cell_type": "code",
   "execution_count": null,
   "metadata": {},
   "outputs": [],
   "source": [
    "# A function for generating a numpy array containing random weights that add upto 1\n",
    "def RandWeights(size):\n",
    "    weight = np.random.dirichlet(np.ones(size))\n",
    "    return weight"
   ]
  },
  {
   "cell_type": "code",
   "execution_count": null,
   "metadata": {},
   "outputs": [],
   "source": [
    "risk_free_rate = 0.0619 # 6.19% on July 9\n",
    "\n",
    "# A function to generate the avg return, risk and the sharpe ratio of the portfolio \n",
    "# correponding to the weight array passed\n",
    "def portfolio_stats(weight):\n",
    "\n",
    "    # Convert to array in case list was passed instead.\n",
    "    weight = np.array(weight)\n",
    "    port_return = np.sum(log_returns.mean() * weight) * 250\n",
    "    port_risk = np.sqrt(np.dot(weight.T, np.dot(log_returns.cov() * 250, weight)))\n",
    "    sharpe = (port_return - risk_free_rate)/port_risk\n",
    "\n",
    "    return {'return': port_return, 'risk': port_risk, 'sharpe': sharpe}"
   ]
  },
  {
   "cell_type": "code",
   "execution_count": null,
   "metadata": {},
   "outputs": [],
   "source": [
    "# Trying to generate random weights\n",
    "\n",
    "length = len(log_returns.columns)\n",
    "weight = RandWeights(length)\n",
    "weight"
   ]
  },
  {
   "cell_type": "code",
   "execution_count": null,
   "metadata": {},
   "outputs": [],
   "source": [
    "# Generating Portfolio Statistics\n",
    "pf_stats = portfolio_stats(weight)\n",
    "\n",
    "pf_return = pf_stats['return']\n",
    "pf_risk = pf_stats['risk']\n",
    "sharpe_ratio = pf_stats['sharpe']"
   ]
  },
  {
   "cell_type": "code",
   "execution_count": null,
   "metadata": {},
   "outputs": [],
   "source": [
    "print(f'Portfolio Return    : {pf_return * 100:.2f} %')\n",
    "print(f'Portfolio Risk      : {pf_risk * 100:.2f} %')\n",
    "print(f'Portfolio Sharpe    : {sharpe_ratio * 100:.2f} %')"
   ]
  },
  {
   "cell_type": "markdown",
   "metadata": {},
   "source": [
    "#### We will now run a monte carlo simulation to generate random portfolios. We will use the results of simulation to draw an efficient frontier"
   ]
  },
  {
   "cell_type": "code",
   "execution_count": null,
   "metadata": {},
   "outputs": [],
   "source": [
    "def Monte_Carlo(iterations):\n",
    "    portfolio_returns = []\n",
    "    portfolio_risks = []\n",
    "    for x in range (iterations):\n",
    "        weight = RandWeights(length)\n",
    "        pf_stats = portfolio_stats(weight)\n",
    "        portfolio_returns.append(pf_stats['return'])\n",
    "        portfolio_risks.append(pf_stats['risk'])\n",
    "        \n",
    "    portfolio_returns = np.array(portfolio_returns)\n",
    "    portfolio_risks = np.array(portfolio_risks)\n",
    "    return portfolio_returns, portfolio_risks\n",
    "\n",
    "    "
   ]
  },
  {
   "cell_type": "code",
   "execution_count": null,
   "metadata": {},
   "outputs": [],
   "source": [
    "portfolio_returns, portfolio_risks = Monte_Carlo(100000)\n",
    "sharpe = portfolio_returns / portfolio_risks\n",
    "max_sr_ret = portfolio_returns[sharpe.argmax()] # return corresponding to maximum sharpe ratio\n",
    "max_sr_vol = portfolio_risks[sharpe.argmax()] # risk corresponding to maximum sharpe ratio\n",
    "plt.figure(figsize=(18,10))\n",
    "plt.scatter(portfolio_risks, portfolio_returns, c=sharpe, cmap='viridis')\n",
    "plt.colorbar(label='Sharpe Ratio')\n",
    "plt.xlabel('Risk')\n",
    "plt.ylabel('Return')\n",
    "plt.scatter(max_sr_vol, max_sr_ret,c='red', s=50) # red dot\n",
    "plt.show()"
   ]
  },
  {
   "cell_type": "markdown",
   "metadata": {},
   "source": [
    "- The above plot shows comparison of all portfolio combinations generated in Mone Carlo Simulation in terms of their risk and return. The red dot corresponds to the portfolio having the highest sharpe ratio amoung the generated portfolios. ( This portfolio may not be the one with highest sharpe ratio as we are plotting random portfolios. It is just the portfolio with highest sharpe ratio amoung all the randomly generated portfolios)\n",
    "- We will now try to generate optimized portffolios subject to various conditions\n",
    "- This hyperbolic plot is called 'Markowitz's Bullet'"
   ]
  },
  {
   "cell_type": "markdown",
   "metadata": {},
   "source": [
    "#### Using Optimization to find portfolio with max sharpe ratio\n",
    "- The below function returns the weights array cooresponding to the portfolio with the highest Sharpe Ratio\n",
    "- We are using Scipy.optimize.minimize. We are trying to minimize negative Sharpe Ratio (which is same as maximising the sharpe ratio)\n",
    "- The constraint for optimization is -> Sum of all the weights has to be 1, and all the weights are bounded between 0 and 1"
   ]
  },
  {
   "cell_type": "code",
   "execution_count": null,
   "metadata": {},
   "outputs": [],
   "source": [
    "def OptimizationWithSharpeRatio():\n",
    "\n",
    "    def FindNegSharpe(weight):\n",
    "        return (-1)*portfolio_stats(weight)['sharpe']\n",
    "\n",
    "    res = minimize(\n",
    "          FindNegSharpe,\n",
    "          RandWeights(length),\n",
    "          method = 'SLSQP',\n",
    "          constraints=[\n",
    "            {'type': 'eq', 'fun': lambda w: np.sum(w) - 1.},\n",
    "          ],\n",
    "          bounds=[(0., 1.) for i in range(length)]\n",
    "        )\n",
    "    \n",
    "    return res\n"
   ]
  },
  {
   "cell_type": "code",
   "execution_count": null,
   "metadata": {},
   "outputs": [],
   "source": [
    "OptimizationWithSharpeRatio()"
   ]
  },
  {
   "cell_type": "markdown",
   "metadata": {},
   "source": [
    "- The optimization is successful. \n",
    "- The required weights are in the key x"
   ]
  },
  {
   "cell_type": "markdown",
   "metadata": {},
   "source": [
    "#### Using Optimisation to find portfolio that has minimum risk for a given expected return\n",
    "\n",
    "- Sometimes, the investors want to have a portfolio with a fixed targert return. \n",
    "- They want to find portfolio that would provide that return with minimum risk involved"
   ]
  },
  {
   "cell_type": "code",
   "execution_count": null,
   "metadata": {},
   "outputs": [],
   "source": [
    "def OptimizationForAGivenReturn(target_return):\n",
    "    \n",
    "    def fun(weight):\n",
    "        pf_stats = portfolio_stats(weight)\n",
    "        _risk = pf_stats['risk']\n",
    "        return _risk\n",
    "    \n",
    "    res = minimize(\n",
    "      fun,\n",
    "      RandWeights(length),\n",
    "      method = 'SLSQP',\n",
    "      constraints=[{'type':'eq','fun': lambda x: portfolio_stats(x)['return']-target_return},\n",
    "                   {'type':'eq','fun': lambda x: np.sum(x)-1}],\n",
    "      bounds=[(0., 1.) for i in range(length)]\n",
    "    )\n",
    "    \n",
    "    return res\n"
   ]
  },
  {
   "cell_type": "code",
   "execution_count": null,
   "metadata": {},
   "outputs": [],
   "source": [
    "OptimizationForAGivenReturn(0.4)"
   ]
  },
  {
   "cell_type": "markdown",
   "metadata": {},
   "source": [
    "- For a return of 40%, we can find the optimal portfolio corresponding to the weights generated above"
   ]
  },
  {
   "cell_type": "markdown",
   "metadata": {},
   "source": [
    "#### Finding portfolio that provide the minimum risk"
   ]
  },
  {
   "cell_type": "code",
   "execution_count": null,
   "metadata": {},
   "outputs": [],
   "source": [
    "def OptimizingWithMinRisk():\n",
    "    \n",
    "    def fun(weight):\n",
    "        pf_stats = portfolio_stats(weight)\n",
    "        _risk = pf_stats['risk']\n",
    "        return _risk\n",
    "        \n",
    "    \n",
    "    res = minimize(\n",
    "      fun,\n",
    "      RandWeights(length),\n",
    "      method = 'SLSQP',\n",
    "      constraints=[\n",
    "        {'type': 'eq', 'fun': lambda w: np.sum(w) - 1.},\n",
    "      ],\n",
    "      bounds=[(0., 1.) for i in range(length)]\n",
    "    )\n",
    "\n",
    "    return res"
   ]
  },
  {
   "cell_type": "markdown",
   "metadata": {},
   "source": [
    "### Plotting the efficient Frontier\n",
    "\n",
    "- The efficient frontier is the set of optimal portfolios that offer the highest expected return for a defined level of risk or the lowest risk for a given level of expected return. Portfolios that lie below the efficient frontier are sub-optimal because they do not provide enough return for the level of risk.\n",
    "\n",
    "- We will plot the efficient frontier by taking the optimal portfolios for all possible returns"
   ]
  },
  {
   "cell_type": "code",
   "execution_count": null,
   "metadata": {},
   "outputs": [],
   "source": [
    "target_returns = np.linspace(portfolio_returns.min(), portfolio_returns.max(),70)\n",
    "\n",
    "minimal_risks = []\n",
    "for target_return in target_returns:\n",
    "    optimal = OptimizationForAGivenReturn(target_return)\n",
    "    minimal_risks.append(optimal['fun'])\n",
    "\n",
    "minimal_risks = np.array(minimal_risks)\n",
    "print(minimal_risks)"
   ]
  },
  {
   "cell_type": "code",
   "execution_count": null,
   "metadata": {},
   "outputs": [],
   "source": [
    "plt.figure(figsize=(18,10))\n",
    "\n",
    "plt.scatter(portfolio_risks, portfolio_returns,\n",
    "            c = ( portfolio_returns / portfolio_risks),\n",
    "            marker = 'o')\n",
    "\n",
    "\n",
    "# Plotting the efficient frontier\n",
    "plt.scatter(minimal_risks,\n",
    "            target_returns,\n",
    "            c = (target_returns / minimal_risks),\n",
    "            marker = 'x')\n",
    "\n",
    "\n",
    "#Plotting the portfolio that has highest Sharpe Ratio\n",
    "Optimal_weights_For_Highest_Sharpe_Ratio = OptimizationWithSharpeRatio().x\n",
    "\n",
    "plt.plot(portfolio_stats(Optimal_weights_For_Highest_Sharpe_Ratio)['risk'],\n",
    "         portfolio_stats(Optimal_weights_For_Highest_Sharpe_Ratio)['return'],\n",
    "         'r*',\n",
    "         markersize = 25.0, label = \"Portfolio corresponding to max sharpe\")\n",
    "\n",
    "\n",
    "#Plotting the optimal portfolio that has lowest risk\n",
    "Optimal_weights_For_Lowest_Risk = OptimizingWithMinRisk().x\n",
    "\n",
    "plt.plot(portfolio_stats(Optimal_weights_For_Lowest_Risk)['risk'],\n",
    "         portfolio_stats(Optimal_weights_For_Lowest_Risk)['return'],\n",
    "         'g*',\n",
    "         markersize = 25.0, label = \"Portfolio corresponding to lowest risk\")\n",
    "\n",
    "#Plotting the optimal portfolio for 25% annual returns\n",
    "Optimal_weights_for_twenty_five_percent_returns = OptimizationForAGivenReturn(0.25).x\n",
    "\n",
    "plt.plot(portfolio_stats(Optimal_weights_for_twenty_five_percent_returns)['risk'],\n",
    "         portfolio_stats(Optimal_weights_for_twenty_five_percent_returns)['return'],\n",
    "         'b*',\n",
    "         markersize = 25.0, label = \"Optimal Portfolio corresponding to 25% return\")\n",
    "\n",
    "#Plotting the optimal portfolio for 35% annual returns\n",
    "Optimal_weights_for_thirty_five_percent_returns = OptimizationForAGivenReturn(0.35).x\n",
    "\n",
    "plt.plot(portfolio_stats(Optimal_weights_for_thirty_five_percent_returns)['risk'],\n",
    "         portfolio_stats(Optimal_weights_for_thirty_five_percent_returns)['return'],\n",
    "         'm*',\n",
    "         markersize = 25.0, label = \"Optimal Portfolio corresponding to 35% return\")\n",
    "\n",
    "plt.xlabel('Portfolio Risk',fontsize = 20)\n",
    "plt.ylabel('Portfolio Return', fontsize = 20)\n",
    "plt.legend(prop={'size': 10})\n",
    "plt.colorbar(label='Sharpe ratio')"
   ]
  },
  {
   "cell_type": "markdown",
   "metadata": {},
   "source": [
    "- The efficient frontier is different for different investors, depending upon the assets they are holding\n",
    "- There is nothing like a single optimal portfolio. The efficient frontier is the collection of optimal portfolios.\n",
    "- The investors can choose any optimal portfolio depending upon the risk they can take"
   ]
  },
  {
   "cell_type": "code",
   "execution_count": null,
   "metadata": {},
   "outputs": [],
   "source": []
  },
  {
   "cell_type": "code",
   "execution_count": null,
   "metadata": {},
   "outputs": [],
   "source": []
  },
  {
   "cell_type": "code",
   "execution_count": null,
   "metadata": {},
   "outputs": [],
   "source": []
  }
 ],
 "metadata": {
  "kernelspec": {
   "display_name": "port_mgmt",
   "language": "python",
   "name": "python3"
  },
  "language_info": {
   "codemirror_mode": {
    "name": "ipython",
    "version": 3
   },
   "file_extension": ".py",
   "mimetype": "text/x-python",
   "name": "python",
   "nbconvert_exporter": "python",
   "pygments_lexer": "ipython3",
   "version": "3.10.6"
  }
 },
 "nbformat": 4,
 "nbformat_minor": 2
}
